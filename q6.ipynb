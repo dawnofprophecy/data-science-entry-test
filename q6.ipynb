{
 "cells": [
  {
   "cell_type": "code",
   "execution_count": null,
   "metadata": {},
   "outputs": [],
   "source": [
    "def find_first_negative(lst):\n",
    "    \"\"\"\n",
    "    Task 1\n",
    "    - Create a function that finds the first negative number in a list (lst).\n",
    "    - Return the first negative number if found, otherwise return \"No negatives\".\n",
    "    - Use a while loop to implement this.\n",
    "    \"\"\"\n",
    "    x = 0\n",
    "    \n",
    "    #while loop will iterate while x is shorter than length of list\n",
    "    while x < len(lst):\n",
    "        \n",
    "        #if number at index x is less than 0, return the number\n",
    "        if(lst[x]) < 0:\n",
    "            return lst[x]\n",
    "            \n",
    "        #increment to tshe next index    \n",
    "        x += 1\n",
    "        \n",
    "    return print(f\"No negatives\")\n"
   ]
  },
  {
   "cell_type": "markdown",
   "metadata": {},
   "source": [
    "Task 2<br>\n",
    "Invoke the function \"find_first_negative\" using the following scenario:<br>\n",
    "- [3, 5, -1, 7, -2, 8]<br>\n",
    "- [2, 10, 7, 0]"
   ]
  },
  {
   "cell_type": "code",
   "execution_count": null,
   "metadata": {},
   "outputs": [],
   "source": [
    "find_first_negative([3, 5, -1, 7, -2, 8])"
   ]
  },
  {
   "cell_type": "code",
   "execution_count": null,
   "metadata": {},
   "outputs": [],
   "source": [
    "find_first_negative([2, 10, 7, 0])"
   ]
  },
  {
   "cell_type": "code",
   "execution_count": null,
   "metadata": {},
   "outputs": [],
   "source": []
  }
 ],
 "metadata": {
  "kernelspec": {
   "display_name": "Python 3 (ipykernel)",
   "language": "python",
   "name": "python3"
  },
  "language_info": {
   "codemirror_mode": {
    "name": "ipython",
    "version": 3
   },
   "file_extension": ".py",
   "mimetype": "text/x-python",
   "name": "python",
   "nbconvert_exporter": "python",
   "pygments_lexer": "ipython3",
   "version": "3.12.7"
  }
 },
 "nbformat": 4,
 "nbformat_minor": 4
}
