{
 "cells": [
  {
   "cell_type": "code",
   "execution_count": null,
   "metadata": {},
   "outputs": [],
   "source": [
    "def find_and_replace(lst, find_val, replace_val):\n",
    "    \"\"\"\n",
    "    Task 1\n",
    "    - Create a function that searches for all occurrences of a value (find_val) in a given list (lst) and replaces them with another value (replace_val).\n",
    "    - lst must be a list.\n",
    "    - Return the modified list.\n",
    "    \"\"\"\n",
    "    #iterate through the entire list\n",
    "    for x in range(len(lst)):\n",
    "        # if the value at index x is the same as find_val, replace it with the replace_val\n",
    "        if(lst[x] == find_val):\n",
    "            lst[x] = replace_val\n",
    "    return lst"
   ]
  },
  {
   "cell_type": "markdown",
   "metadata": {},
   "source": [
    "Task 2<br>\n",
    "Invoke the function \"find_and_replace\" using the following scenarios:<br>\n",
    "- [1, 2, 3, 4, 2, 2], 2, 5<br>\n",
    "- [\"apple\", \"banana\", \"apple\"], \"apple\", \"orange\""
   ]
  },
  {
   "cell_type": "code",
   "execution_count": null,
   "metadata": {},
   "outputs": [],
   "source": [
    "find_and_replace([1, 2, 3, 4, 2, 2], 2, 5)"
   ]
  },
  {
   "cell_type": "code",
   "execution_count": null,
   "metadata": {},
   "outputs": [],
   "source": [
    "find_and_replace([\"apple\", \"banana\", \"apple\"], \"apple\", \"orange\")"
   ]
  },
  {
   "cell_type": "code",
   "execution_count": null,
   "metadata": {},
   "outputs": [],
   "source": []
  }
 ],
 "metadata": {
  "kernelspec": {
   "display_name": "Python 3 (ipykernel)",
   "language": "python",
   "name": "python3"
  },
  "language_info": {
   "codemirror_mode": {
    "name": "ipython",
    "version": 3
   },
   "file_extension": ".py",
   "mimetype": "text/x-python",
   "name": "python",
   "nbconvert_exporter": "python",
   "pygments_lexer": "ipython3",
   "version": "3.12.7"
  }
 },
 "nbformat": 4,
 "nbformat_minor": 4
}
