{
 "cells": [
  {
   "cell_type": "code",
   "execution_count": null,
   "metadata": {},
   "outputs": [],
   "source": [
    "def string_reverse(s):\n",
    "    \"\"\"\n",
    "    Task 1\n",
    "    - Create a function that reverses a given string (s).\n",
    "    - s must be a string.\n",
    "    - Return the reversed string.\n",
    "    \"\"\"\n",
    "    #if s is a string, return s backwards from the end of the string to the start of string.\n",
    "    if(type(s) == str):\n",
    "        return s[::-1]\n",
    "    else:\n",
    "        return False\n",
    "    return"
   ]
  },
  {
   "cell_type": "markdown",
   "metadata": {},
   "source": [
    "Task 2<br>\n",
    "Invoke the function \"string_reverse\" using the following scenarios:<br>\n",
    "- \"Hello World\"<br>\n",
    "- \"Python\""
   ]
  },
  {
   "cell_type": "code",
   "execution_count": null,
   "metadata": {},
   "outputs": [],
   "source": [
    "string_reverse(\"Hello World\")"
   ]
  },
  {
   "cell_type": "code",
   "execution_count": null,
   "metadata": {},
   "outputs": [],
   "source": [
    "string_reverse(\"Python\")"
   ]
  }
 ],
 "metadata": {
  "kernelspec": {
   "display_name": "Python 3 (ipykernel)",
   "language": "python",
   "name": "python3"
  },
  "language_info": {
   "codemirror_mode": {
    "name": "ipython",
    "version": 3
   },
   "file_extension": ".py",
   "mimetype": "text/x-python",
   "name": "python",
   "nbconvert_exporter": "python",
   "pygments_lexer": "ipython3",
   "version": "3.12.7"
  }
 },
 "nbformat": 4,
 "nbformat_minor": 4
}
