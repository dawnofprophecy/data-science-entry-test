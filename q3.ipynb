{
 "cells": [
  {
   "cell_type": "code",
   "execution_count": null,
   "metadata": {},
   "outputs": [],
   "source": [
    "def update_dictionary(dct, key, value):\n",
    "    \"\"\"\n",
    "    Task 1\n",
    "    - Create a function that updates a dictionary (dct) with a new key-value pair.\n",
    "    - If the key already exists in dct, print the original value, then update its value.\n",
    "    - Return the updated dictionary.\n",
    "    \"\"\"\n",
    "\n",
    "    #loop through the keys in the dictionary, if key is found, print the original value and update its value\n",
    "    for x in dct.keys():\n",
    "        if(x == key):\n",
    "            print(f\"Original Value: {dct[key]}\")\n",
    "            dct.update({key: value})\n",
    "    \n",
    "    #if key does not exist in dictionary (as it is outside the for loop), add it as a new key-value pair\n",
    "    dct[key] = value\n",
    "   \n",
    "    return dct"
   ]
  },
  {
   "cell_type": "markdown",
   "metadata": {},
   "source": [
    "Task 2<br>\n",
    "Invoke the function \"update_dictionary\" using the following scenarios:<br>\n",
    "- {}, \"name\", \"Alice\"<br>\n",
    "- {\"age\": 25}, \"age\", 26"
   ]
  },
  {
   "cell_type": "code",
   "execution_count": null,
   "metadata": {},
   "outputs": [],
   "source": [
    "update_dictionary({}, \"name\", \"Alice\")"
   ]
  },
  {
   "cell_type": "code",
   "execution_count": null,
   "metadata": {},
   "outputs": [],
   "source": [
    "update_dictionary({\"age\": 25}, \"age\", 26)"
   ]
  }
 ],
 "metadata": {
  "kernelspec": {
   "display_name": "Python 3 (ipykernel)",
   "language": "python",
   "name": "python3"
  },
  "language_info": {
   "codemirror_mode": {
    "name": "ipython",
    "version": 3
   },
   "file_extension": ".py",
   "mimetype": "text/x-python",
   "name": "python",
   "nbconvert_exporter": "python",
   "pygments_lexer": "ipython3",
   "version": "3.12.7"
  }
 },
 "nbformat": 4,
 "nbformat_minor": 4
}
