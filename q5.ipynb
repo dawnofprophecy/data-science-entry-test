{
 "cells": [
  {
   "cell_type": "code",
   "execution_count": null,
   "metadata": {},
   "outputs": [],
   "source": [
    "def check_divisibility(num, divisor):\n",
    "    \"\"\"\n",
    "    Task 1\n",
    "    - Create a function to check if the number (num) is divisible by another number (divisor).\n",
    "    - Both num and divisor must be numeric.\n",
    "    - Return True if num is divisible by divisor, False otherwise.\n",
    "    \"\"\"\n",
    "    #checks if both num and divisor are numeric. if both numeric, the following if statement will run. \n",
    "    #if either is not numeric, the second False will return.\n",
    "    if(isinstance(num, (int, float)) and isinstance(divisor, (int, float))):\n",
    "        \n",
    "        #if remainder of the division is 0, return True. else return False\n",
    "        if(num % divisor) == 0:\n",
    "            return True\n",
    "        else:\n",
    "            return False\n",
    "    return False"
   ]
  },
  {
   "cell_type": "markdown",
   "metadata": {},
   "source": [
    "Task 2<br>\n",
    "Invoke the function \"check_divisibility\" using the following scenarios:<br>\n",
    "- 10, 2<br>\n",
    "- 7, 3"
   ]
  },
  {
   "cell_type": "code",
   "execution_count": null,
   "metadata": {},
   "outputs": [],
   "source": [
    "check_divisibility(10, 2)"
   ]
  },
  {
   "cell_type": "code",
   "execution_count": null,
   "metadata": {},
   "outputs": [],
   "source": [
    "check_divisibility(7, 3)"
   ]
  }
 ],
 "metadata": {
  "kernelspec": {
   "display_name": "Python 3 (ipykernel)",
   "language": "python",
   "name": "python3"
  },
  "language_info": {
   "codemirror_mode": {
    "name": "ipython",
    "version": 3
   },
   "file_extension": ".py",
   "mimetype": "text/x-python",
   "name": "python",
   "nbconvert_exporter": "python",
   "pygments_lexer": "ipython3",
   "version": "3.12.7"
  }
 },
 "nbformat": 4,
 "nbformat_minor": 4
}
