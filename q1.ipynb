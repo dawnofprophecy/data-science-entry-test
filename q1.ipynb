{
 "cells": [
  {
   "cell_type": "code",
   "execution_count": null,
   "metadata": {},
   "outputs": [],
   "source": [
    "def swap(x, y):\n",
    "    \"\"\"\n",
    "    Task 1\n",
    "    - Create a function that would swap the value of x and y using only x and y as variables.\n",
    "    - x and y must be numeric.\n",
    "    - Return -1 if x and y is not numeric, and\n",
    "    - print the swapped values if both x and y are numeric.\n",
    "    \"\"\"\n",
    "    #check if x and y are numeric\n",
    "    if(type(x) != int) or (type(y) != int):\n",
    "        return -1\n",
    "\n",
    "    # swap x and y if both are numeric\n",
    "    x , y = y , x\n",
    "    print(f\"x = {x}, y = {y}\")\n",
    "    return"
   ]
  },
  {
   "cell_type": "markdown",
   "metadata": {},
   "source": [
    "Task 2<br>\n",
    "Invoke the function \"swap\" using the following scenarios:<br>\n",
    "- \"Apple\", 10<br>\n",
    "- 9, 17"
   ]
  },
  {
   "cell_type": "code",
   "execution_count": null,
   "metadata": {},
   "outputs": [],
   "source": [
    "swap(\"Apple\", 10)"
   ]
  },
  {
   "cell_type": "code",
   "execution_count": null,
   "metadata": {},
   "outputs": [],
   "source": [
    "swap(9, 17)"
   ]
  }
 ],
 "metadata": {
  "kernelspec": {
   "display_name": "Python 3 (ipykernel)",
   "language": "python",
   "name": "python3"
  },
  "language_info": {
   "codemirror_mode": {
    "name": "ipython",
    "version": 3
   },
   "file_extension": ".py",
   "mimetype": "text/x-python",
   "name": "python",
   "nbconvert_exporter": "python",
   "pygments_lexer": "ipython3",
   "version": "3.12.7"
  }
 },
 "nbformat": 4,
 "nbformat_minor": 4
}
