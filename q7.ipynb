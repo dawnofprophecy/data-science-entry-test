{
 "cells": [
  {
   "cell_type": "code",
   "execution_count": null,
   "metadata": {},
   "outputs": [],
   "source": [
    "class Car:\n",
    "    \"\"\"\n",
    "    Task 1\n",
    "    - Define a class named Car with attributes: make, model, year\n",
    "    - Initialize these attributes in the __init__ method\n",
    "    - Add a method named describe_car() that prints information about the car as \"Year Make Model\"\n",
    "    \"\"\"\n",
    "\n",
    "    #assign make, model and year to the object that is created\n",
    "    def __init__(self, make, model, year):\n",
    "        self.make = make\n",
    "        self.model = model\n",
    "        self.year = year\n",
    "\n",
    "    #print information about the car as\"Year Make Model\"\n",
    "    def describe_car(self):\n",
    "        print(f\"Year: {self.year}, Make: {self.make}, Model: {self.model}\")"
   ]
  },
  {
   "cell_type": "markdown",
   "metadata": {},
   "source": [
    "Task 2<br>\n",
    "Create an instance of the Car class with the following attributes and call describe_car method:<br>\n",
    "- Make: Toyota, Model: Corolla, Year: 2020"
   ]
  },
  {
   "cell_type": "code",
   "execution_count": null,
   "metadata": {},
   "outputs": [],
   "source": [
    "myCar = Car(\"Toyota\", \"Corolla\", 2020)\n",
    "myCar.describe_car()"
   ]
  },
  {
   "cell_type": "code",
   "execution_count": null,
   "metadata": {},
   "outputs": [],
   "source": []
  }
 ],
 "metadata": {
  "kernelspec": {
   "display_name": "Python 3 (ipykernel)",
   "language": "python",
   "name": "python3"
  },
  "language_info": {
   "codemirror_mode": {
    "name": "ipython",
    "version": 3
   },
   "file_extension": ".py",
   "mimetype": "text/x-python",
   "name": "python",
   "nbconvert_exporter": "python",
   "pygments_lexer": "ipython3",
   "version": "3.12.7"
  }
 },
 "nbformat": 4,
 "nbformat_minor": 4
}
